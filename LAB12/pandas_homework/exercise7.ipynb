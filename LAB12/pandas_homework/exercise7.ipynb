{
 "cells": [
  {
   "cell_type": "markdown",
   "id": "eb3586bd",
   "metadata": {},
   "source": [
    "# Exercise 7\n",
    "Save the iris data frame to iris2.xlsx, with split based on variety. Each type should be in a separate sheet with the sheet name the same as variety."
   ]
  },
  {
   "cell_type": "code",
   "execution_count": 15,
   "id": "343dd213",
   "metadata": {},
   "outputs": [],
   "source": [
    "import pandas as pd\n",
    "\n",
    "df = pd.read_csv(\"../data/iris.csv\")\n",
    "iris_variety = df.groupby(\"variety\")\n",
    "\n",
    "\n",
    "with pd.ExcelWriter('iris_variety.xlsx') as writer:  \n",
    "    for group_name, group_data in iris_variety:\n",
    "        # print(group_data)\n",
    "        group_data = group_data.drop(['variety'], axis='columns')\n",
    "        # print(f\"Group: {group_name}\")\n",
    "        # print(group_data)\n",
    "        group_data.to_excel(writer, sheet_name=group_name, index=False)"
   ]
  }
 ],
 "metadata": {
  "kernelspec": {
   "display_name": "Python 3",
   "language": "python",
   "name": "python3"
  },
  "language_info": {
   "codemirror_mode": {
    "name": "ipython",
    "version": 3
   },
   "file_extension": ".py",
   "mimetype": "text/x-python",
   "name": "python",
   "nbconvert_exporter": "python",
   "pygments_lexer": "ipython3",
   "version": "3.12.1"
  }
 },
 "nbformat": 4,
 "nbformat_minor": 5
}
