{
 "cells": [
  {
   "cell_type": "code",
   "execution_count": 1,
   "id": "c8c3d406",
   "metadata": {},
   "outputs": [
    {
     "name": "stdout",
     "output_type": "stream",
     "text": [
      "     sepal.length  sepal.width  petal.length  petal.width    variety\n",
      "0             5.1          3.5           1.4          0.2     Setosa\n",
      "1             4.9          3.0           1.4          0.2     Setosa\n",
      "2             4.7          3.2           1.3          0.2     Setosa\n",
      "3             4.6          3.1           1.5          0.2     Setosa\n",
      "4             5.0          3.6           1.4          0.2     Setosa\n",
      "..            ...          ...           ...          ...        ...\n",
      "145           6.7          3.0           5.2          2.3  Virginica\n",
      "146           6.3          2.5           5.0          1.9  Virginica\n",
      "147           6.5          3.0           5.2          2.0  Virginica\n",
      "148           6.2          3.4           5.4          2.3  Virginica\n",
      "149           5.9          3.0           5.1          1.8  Virginica\n",
      "\n",
      "[150 rows x 5 columns]\n"
     ]
    }
   ],
   "source": [
    "import pandas as pd\n",
    "\n",
    "iris = pd.read_csv(\"data/iris.csv\")\n",
    "print(iris)"
   ]
  },
  {
   "cell_type": "code",
   "execution_count": 2,
   "id": "1a038d93",
   "metadata": {},
   "outputs": [
    {
     "name": "stdout",
     "output_type": "stream",
     "text": [
      "    sepal.length;\"sepal.width\";\"petal.length\";\"petal.width\";\"variety\"\n",
      "0                              5.1;3.5;1.4;.2;\"Setosa\"               \n",
      "1                                4.9;3;1.4;.2;\"Setosa\"               \n",
      "2                              4.7;3.2;1.3;.2;\"Setosa\"               \n",
      "3                              4.6;3.1;1.5;.2;\"Setosa\"               \n",
      "4                                5;3.6;1.4;.2;\"Setosa\"               \n",
      "..                                                 ...               \n",
      "145                          6.7;3;5.2;2.3;\"Virginica\"               \n",
      "146                          6.3;2.5;5;1.9;\"Virginica\"               \n",
      "147                            6.5;3;5.2;2;\"Virginica\"               \n",
      "148                        6.2;3.4;5.4;2.3;\"Virginica\"               \n",
      "149                          5.9;3;5.1;1.8;\"Virginica\"               \n",
      "\n",
      "[150 rows x 1 columns]\n"
     ]
    }
   ],
   "source": [
    "iris_modified = pd.read_csv(\"data/iris_modified.csv\")\n",
    "print(iris_modified)"
   ]
  },
  {
   "cell_type": "code",
   "execution_count": 4,
   "id": "c9571e0c",
   "metadata": {},
   "outputs": [],
   "source": [
    "iris.to_excel(\"iris.xlsx\", sheet_name='iris')"
   ]
  },
  {
   "cell_type": "code",
   "execution_count": 8,
   "id": "28a69e7c",
   "metadata": {},
   "outputs": [
    {
     "name": "stdout",
     "output_type": "stream",
     "text": [
      "    TABL. A.   TABLICA TRWANIA ŻYCIA 2019  \\\n",
      "0                                     NaN   \n",
      "1                                     NaN   \n",
      "2                              Wiek   Age   \n",
      "3                                     NaN   \n",
      "4                                       x   \n",
      "..                                    ...   \n",
      "102                                    96   \n",
      "103                                    97   \n",
      "104                                    98   \n",
      "105                                    99   \n",
      "106                                   100   \n",
      "\n",
      "                                            Unnamed: 1  \\\n",
      "0                            LIFE TABLE OF POLAND 2019   \n",
      "1                                                  NaN   \n",
      "2    Liczba dożywających   Number              of s...   \n",
      "3                                                  NaN   \n",
      "4                                                   lx   \n",
      "..                                                 ...   \n",
      "102                                               8551   \n",
      "103                                               6483   \n",
      "104                                               4782   \n",
      "105                                               3425   \n",
      "106                                               2377   \n",
      "\n",
      "                                          Unnamed: 2  \\\n",
      "0                                                NaN   \n",
      "1                                                NaN   \n",
      "2    Prawdopodobień-stwo zgonu  Probability of dying   \n",
      "3                                                NaN   \n",
      "4                                                 qx   \n",
      "..                                               ...   \n",
      "102                                           0.2418   \n",
      "103                                          0.26232   \n",
      "104                                          0.28378   \n",
      "105                                          0.30614   \n",
      "106                                          0.32934   \n",
      "\n",
      "                           Unnamed: 3  \\\n",
      "0                                 NaN   \n",
      "1                                 NaN   \n",
      "2    Liczba zmarłych  Number deceased   \n",
      "3                                 NaN   \n",
      "4                                  dx   \n",
      "..                                ...   \n",
      "102                              2068   \n",
      "103                              1701   \n",
      "104                              1357   \n",
      "105                              1048   \n",
      "106                               783   \n",
      "\n",
      "                                     Unnamed: 4             Unnamed: 5  \\\n",
      "0                                           NaN                    NaN   \n",
      "1                                           NaN                    NaN   \n",
      "2    Ludność stacjonarna  Stationary population                    NaN   \n",
      "3                          w wieku x   at age x  skumulowana cumulated   \n",
      "4                                            Lx                     Tx   \n",
      "..                                          ...                    ...   \n",
      "102                                        7517                25444.5   \n",
      "103                                      5632.5                17927.5   \n",
      "104                                      4103.5                  12295   \n",
      "105                                        2901                 8191.5   \n",
      "106                                      1985.5                 5290.5   \n",
      "\n",
      "                                            Unnamed: 6  \n",
      "0                                                  NaN  \n",
      "1                                                  NaN  \n",
      "2    Przeciętne dalsze trwanie życia        Life ex...  \n",
      "3                                                  NaN  \n",
      "4                                                   ex  \n",
      "..                                                 ...  \n",
      "102                                               2.98  \n",
      "103                                               2.77  \n",
      "104                                               2.57  \n",
      "105                                               2.39  \n",
      "106                                               2.23  \n",
      "\n",
      "[107 rows x 7 columns]\n"
     ]
    }
   ],
   "source": [
    "tab_przetrwania = pd.read_excel(\"data/tablica_a._tablica_trwania_zycia_2019.xlsx\", \n",
    "                                sheet_name=\"miakob\", \n",
    "                                engine=\"openpyxl\")\n",
    "print(tab_przetrwania)"
   ]
  }
 ],
 "metadata": {
  "kernelspec": {
   "display_name": "UWvenv",
   "language": "python",
   "name": "python3"
  },
  "language_info": {
   "codemirror_mode": {
    "name": "ipython",
    "version": 3
   },
   "file_extension": ".py",
   "mimetype": "text/x-python",
   "name": "python",
   "nbconvert_exporter": "python",
   "pygments_lexer": "ipython3",
   "version": "3.12.3"
  }
 },
 "nbformat": 4,
 "nbformat_minor": 5
}
